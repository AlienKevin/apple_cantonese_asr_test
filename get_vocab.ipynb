{
 "cells": [
  {
   "cell_type": "code",
   "execution_count": 4,
   "metadata": {},
   "outputs": [
    {
     "name": "stdout",
     "output_type": "stream",
     "text": [
      "Words: 4005\n"
     ]
    }
   ],
   "source": [
    "import pandas as pd\n",
    "from pathlib import Path\n",
    "import pycantonese\n",
    "from collections import defaultdict\n",
    "import regex as re\n",
    "\n",
    "punctuation_re = re.compile(r'\\p{P}')\n",
    "\n",
    "dataset_name = \"common-voice-15\"\n",
    "dataset_path = Path(\"data\")/dataset_name\n",
    "\n",
    "metadata = pd.read_csv(dataset_path/\"test.tsv\", sep=\"\\t\")\n",
    "\n",
    "vocab = defaultdict(int)\n",
    "\n",
    "for _, row in list(metadata.iterrows()):\n",
    "    for word in pycantonese.segment(row[\"sentence\"]):\n",
    "        if punctuation_re.match(word):\n",
    "            continue\n",
    "        vocab[word] += 1\n",
    "\n",
    "print(f\"Words: {len(vocab)}\")\n",
    "\n",
    "import csv\n",
    "\n",
    "with open(f\"vocab/{dataset_name}.tsv\", \"w\") as f:\n",
    "    writer = csv.writer(f, delimiter=\"\\t\")\n",
    "    writer.writerow([\"word\", \"count\"])\n",
    "    \n",
    "    rows = sorted(vocab.items(), key=lambda x: x[1], reverse=True)\n",
    "    writer.writerows(rows)"
   ]
  }
 ],
 "metadata": {
  "kernelspec": {
   "display_name": "base",
   "language": "python",
   "name": "python3"
  },
  "language_info": {
   "codemirror_mode": {
    "name": "ipython",
    "version": 3
   },
   "file_extension": ".py",
   "mimetype": "text/x-python",
   "name": "python",
   "nbconvert_exporter": "python",
   "pygments_lexer": "ipython3",
   "version": "3.11.4"
  }
 },
 "nbformat": 4,
 "nbformat_minor": 2
}
